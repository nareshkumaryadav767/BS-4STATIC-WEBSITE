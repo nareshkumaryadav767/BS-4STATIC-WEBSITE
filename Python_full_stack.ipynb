{
  "nbformat": 4,
  "nbformat_minor": 0,
  "metadata": {
    "colab": {
      "provenance": [],
      "authorship_tag": "ABX9TyNfJ+Ny2JAJda8mK4YCCnuz",
      "include_colab_link": true
    },
    "kernelspec": {
      "name": "python3",
      "display_name": "Python 3"
    },
    "language_info": {
      "name": "python"
    }
  },
  "cells": [
    {
      "cell_type": "markdown",
      "metadata": {
        "id": "view-in-github",
        "colab_type": "text"
      },
      "source": [
        "<a href=\"https://colab.research.google.com/github/nareshkumaryadav767/BS-4STATIC-WEBSITE/blob/main/Python_full_stack.ipynb\" target=\"_parent\"><img src=\"https://colab.research.google.com/assets/colab-badge.svg\" alt=\"Open In Colab\"/></a>"
      ]
    },
    {
      "cell_type": "code",
      "execution_count": null,
      "metadata": {
        "id": "dIXFNvu4XJvk"
      },
      "outputs": [],
      "source": []
    },
    {
      "cell_type": "code",
      "source": [
        "a=3\n",
        "b=float(3)\n",
        "print(b)"
      ],
      "metadata": {
        "colab": {
          "base_uri": "https://localhost:8080/"
        },
        "id": "gzBg5DpvXcHM",
        "outputId": "d1c45dcf-7da0-458e-b444-a58a2ab64cbf"
      },
      "execution_count": null,
      "outputs": [
        {
          "output_type": "stream",
          "name": "stdout",
          "text": [
            "3.0\n"
          ]
        }
      ]
    },
    {
      "cell_type": "code",
      "source": [
        "print('Naresh')\n",
        "print('Yadav')"
      ],
      "metadata": {
        "colab": {
          "base_uri": "https://localhost:8080/"
        },
        "id": "OZ0l4QRc33UX",
        "outputId": "b4968ad1-ef7c-4308-d711-9431b2360bc1"
      },
      "execution_count": null,
      "outputs": [
        {
          "output_type": "stream",
          "name": "stdout",
          "text": [
            "Naresh\n",
            "Yadav\n"
          ]
        }
      ]
    },
    {
      "cell_type": "code",
      "source": [
        "print('Naresh',end='')\n",
        "print('Yadav')\n",
        "print('Youtube Channel')"
      ],
      "metadata": {
        "colab": {
          "base_uri": "https://localhost:8080/"
        },
        "id": "a69Nvb3A5boN",
        "outputId": "27381294-8792-46ca-855b-5f9c06611610"
      },
      "execution_count": null,
      "outputs": [
        {
          "output_type": "stream",
          "name": "stdout",
          "text": [
            "NareshYadav\n",
            "Youtube Channel\n"
          ]
        }
      ]
    },
    {
      "cell_type": "code",
      "source": [
        "print(a,b)"
      ],
      "metadata": {
        "colab": {
          "base_uri": "https://localhost:8080/"
        },
        "id": "vWGeUmVC6Htq",
        "outputId": "803f50f0-0625-43a2-bd44-8bb28f1a61dd"
      },
      "execution_count": null,
      "outputs": [
        {
          "output_type": "stream",
          "name": "stdout",
          "text": [
            "3 3.0\n"
          ]
        }
      ]
    },
    {
      "cell_type": "code",
      "source": [
        "a=input()"
      ],
      "metadata": {
        "colab": {
          "base_uri": "https://localhost:8080/"
        },
        "id": "O5p71aHd9R6U",
        "outputId": "60c95eb0-72d6-412b-fbf0-e110705f042c"
      },
      "execution_count": null,
      "outputs": [
        {
          "name": "stdout",
          "output_type": "stream",
          "text": [
            "20\n"
          ]
        }
      ]
    },
    {
      "cell_type": "code",
      "source": [
        "num1=input('please enter first number')\n",
        "num2=input('please enter second number')"
      ],
      "metadata": {
        "colab": {
          "base_uri": "https://localhost:8080/"
        },
        "id": "AltMEzpU9ZXI",
        "outputId": "a02bda56-c2ef-4b63-81a0-37c28446b9ec"
      },
      "execution_count": null,
      "outputs": [
        {
          "name": "stdout",
          "output_type": "stream",
          "text": [
            "please enter first number3\n",
            "please enter second number6\n"
          ]
        }
      ]
    },
    {
      "cell_type": "code",
      "source": [
        "print(num1,num2,sep='\\n')"
      ],
      "metadata": {
        "colab": {
          "base_uri": "https://localhost:8080/"
        },
        "id": "Oedkp4cu-_mD",
        "outputId": "93584c7c-46bb-4e5e-8c38-9996a5d4902f"
      },
      "execution_count": null,
      "outputs": [
        {
          "output_type": "stream",
          "name": "stdout",
          "text": [
            "3\n",
            "6\n"
          ]
        }
      ]
    },
    {
      "cell_type": "code",
      "source": [
        "Naresh=num1+num2\n",
        "print(Naresh)"
      ],
      "metadata": {
        "colab": {
          "base_uri": "https://localhost:8080/"
        },
        "id": "CFdHobLVAazq",
        "outputId": "307e64aa-9678-40b2-d986-f11fb6df98c1"
      },
      "execution_count": null,
      "outputs": [
        {
          "output_type": "stream",
          "name": "stdout",
          "text": [
            "36\n"
          ]
        }
      ]
    },
    {
      "cell_type": "code",
      "source": [
        "num1=int(num1)\n",
        "num2=int(num2)\n",
        "Naresh= num1+num2\n",
        "print(Naresh)"
      ],
      "metadata": {
        "colab": {
          "base_uri": "https://localhost:8080/"
        },
        "id": "adid7ftjBwlQ",
        "outputId": "a613ff52-b6a1-4ba2-fc51-f8f6aa74a792"
      },
      "execution_count": null,
      "outputs": [
        {
          "output_type": "stream",
          "name": "stdout",
          "text": [
            "9\n"
          ]
        }
      ]
    },
    {
      "cell_type": "code",
      "source": [
        "5<<2"
      ],
      "metadata": {
        "colab": {
          "base_uri": "https://localhost:8080/"
        },
        "id": "z_Qh0AopaOaa",
        "outputId": "3770c362-48cb-4c1b-e323-cf658d1d3d47"
      },
      "execution_count": null,
      "outputs": [
        {
          "output_type": "execute_result",
          "data": {
            "text/plain": [
              "20"
            ]
          },
          "metadata": {},
          "execution_count": 1
        }
      ]
    },
    {
      "cell_type": "code",
      "source": [
        "5>>2"
      ],
      "metadata": {
        "id": "S_gqsA4caWdV",
        "outputId": "16b03717-d362-47f3-9a54-8fb3a6f6e991",
        "colab": {
          "base_uri": "https://localhost:8080/"
        }
      },
      "execution_count": null,
      "outputs": [
        {
          "output_type": "execute_result",
          "data": {
            "text/plain": [
              "1"
            ]
          },
          "metadata": {},
          "execution_count": 2
        }
      ]
    },
    {
      "cell_type": "code",
      "source": [
        "a = int(input('Enter a number'))\n",
        "if a==4:\n",
        "  print('Hi')\n",
        "  print('inside')\n",
        "elif a == 6:\n",
        "  print('a is 6')\n",
        "  print('I am inside elif')\n",
        "else:\n",
        "  print('a is not 4')\n",
        "  print('a is ',a)\n",
        "print('outside')"
      ],
      "metadata": {
        "colab": {
          "base_uri": "https://localhost:8080/"
        },
        "id": "xNkwEE9r_Wob",
        "outputId": "eae8b921-d40a-40d1-d082-aa6e2e833302"
      },
      "execution_count": null,
      "outputs": [
        {
          "output_type": "stream",
          "name": "stdout",
          "text": [
            "Enter a number6\n",
            "a is 6\n",
            "I am inside elif\n",
            "outside\n"
          ]
        }
      ]
    },
    {
      "cell_type": "code",
      "source": [
        "a =int(input())\n",
        "if a>4:\n",
        "  if a<10:\n",
        "    print('a is greater than 4 and less than 10')"
      ],
      "metadata": {
        "colab": {
          "base_uri": "https://localhost:8080/"
        },
        "id": "8gRvs8CKFlAz",
        "outputId": "e7c95bca-a0f3-4adf-9852-1deb814c256b"
      },
      "execution_count": null,
      "outputs": [
        {
          "output_type": "stream",
          "name": "stdout",
          "text": [
            "6\n",
            "a is greater than 4 and less than 10\n"
          ]
        }
      ]
    },
    {
      "cell_type": "code",
      "source": [
        "if 10 == 10:\n",
        "    print(\"Welcome to CodingNinjas\")"
      ],
      "metadata": {
        "colab": {
          "base_uri": "https://localhost:8080/"
        },
        "id": "_UKV6VCeG8TA",
        "outputId": "0045e2cb-1da5-451c-f4c0-5aa384b41d15"
      },
      "execution_count": null,
      "outputs": [
        {
          "output_type": "stream",
          "name": "stdout",
          "text": [
            "Welcome to CodingNinjas\n"
          ]
        }
      ]
    },
    {
      "cell_type": "code",
      "source": [
        "if 5 > 10:\n",
        "    print(\"Coding\")\n",
        "elif 8 != 9:\n",
        "    print(\"Ninja\")\n",
        "else:\n",
        "    print(\"DSA\")"
      ],
      "metadata": {
        "colab": {
          "base_uri": "https://localhost:8080/"
        },
        "id": "G1SVCJ0zHCsA",
        "outputId": "c1a7408b-cf2b-4c75-c374-2c2d60ad8d9e"
      },
      "execution_count": null,
      "outputs": [
        {
          "output_type": "stream",
          "name": "stdout",
          "text": [
            "Ninja\n"
          ]
        }
      ]
    },
    {
      "cell_type": "code",
      "source": [
        "if 15 > 5:\n",
        "    print(\"Hello\")\n",
        "elif 10 >= 10:\n",
        "    print(\"World\")\n",
        "else:\n",
        "    print(\"Hello World!\")"
      ],
      "metadata": {
        "colab": {
          "base_uri": "https://localhost:8080/"
        },
        "id": "9XhrAmo0HKgA",
        "outputId": "4ec2e7c2-ba4c-41b3-bab8-ee0ff2a523f9"
      },
      "execution_count": null,
      "outputs": [
        {
          "output_type": "stream",
          "name": "stdout",
          "text": [
            "Hello\n"
          ]
        }
      ]
    },
    {
      "cell_type": "code",
      "source": [
        "def fun(name,roll):\n",
        "\n",
        "    print(name,roll)\n",
        "\n",
        "#Driver's code\n",
        "fun(name = \"parikh\",roll = 101)"
      ],
      "metadata": {
        "colab": {
          "base_uri": "https://localhost:8080/"
        },
        "id": "pWEtm1dYIfJI",
        "outputId": "b687c62d-f62e-4788-c6b7-1e44d8346478"
      },
      "execution_count": null,
      "outputs": [
        {
          "output_type": "stream",
          "name": "stdout",
          "text": [
            "parikh 101\n"
          ]
        }
      ]
    },
    {
      "cell_type": "code",
      "source": [
        "FOR LOOP"
      ],
      "metadata": {
        "id": "WGXIcIwHC7X-"
      },
      "execution_count": null,
      "outputs": []
    },
    {
      "cell_type": "code",
      "source": [
        "for x in range(5):\n",
        "  print(x)"
      ],
      "metadata": {
        "id": "OMNW8NhbJAOj",
        "colab": {
          "base_uri": "https://localhost:8080/"
        },
        "outputId": "9f57bc35-b81f-451f-a06c-701af294cf35"
      },
      "execution_count": null,
      "outputs": [
        {
          "output_type": "stream",
          "name": "stdout",
          "text": [
            "0\n",
            "1\n",
            "2\n",
            "3\n",
            "4\n"
          ]
        }
      ]
    },
    {
      "cell_type": "code",
      "source": [
        "for x in range(1,5,2):\n",
        "  print(x)"
      ],
      "metadata": {
        "colab": {
          "base_uri": "https://localhost:8080/"
        },
        "id": "9Cx0cExbDICX",
        "outputId": "7db9ec00-1721-4c3b-b446-590f657959e8"
      },
      "execution_count": null,
      "outputs": [
        {
          "output_type": "stream",
          "name": "stdout",
          "text": [
            "1\n",
            "3\n"
          ]
        }
      ]
    },
    {
      "cell_type": "code",
      "source": [
        "i = 0\n",
        "while(i < 5):\n",
        "    i = i + 1\n",
        "    print(i,end = \" \")\n",
        "    i += 1"
      ],
      "metadata": {
        "colab": {
          "base_uri": "https://localhost:8080/"
        },
        "id": "usFRGZBPFaOQ",
        "outputId": "20501108-9390-48c7-f4ef-7dcc91de7fb4"
      },
      "execution_count": null,
      "outputs": [
        {
          "output_type": "stream",
          "name": "stdout",
          "text": [
            "1 3 5 "
          ]
        }
      ]
    },
    {
      "cell_type": "code",
      "source": [
        "n = 5\n",
        "while(n > 0):\n",
        "    print(n,end = \" \")\n",
        "    n = n - 1"
      ],
      "metadata": {
        "colab": {
          "base_uri": "https://localhost:8080/"
        },
        "id": "U0xEp1lAFyqY",
        "outputId": "ca674a59-c83d-4803-d13d-31240ff55288"
      },
      "execution_count": null,
      "outputs": [
        {
          "output_type": "stream",
          "name": "stdout",
          "text": [
            "5 4 3 2 1 "
          ]
        }
      ]
    },
    {
      "cell_type": "code",
      "source": [
        "for num in range(5,15,5):\n",
        "    print(num, end=\", \")"
      ],
      "metadata": {
        "colab": {
          "base_uri": "https://localhost:8080/"
        },
        "id": "jATi--4yFyDS",
        "outputId": "3f7e95cb-1970-4b65-b7b7-3652d40ca423"
      },
      "execution_count": null,
      "outputs": [
        {
          "output_type": "stream",
          "name": "stdout",
          "text": [
            "5, 10, "
          ]
        }
      ]
    },
    {
      "cell_type": "code",
      "source": [
        "for num in range(2,-5,-1):\n",
        "    print(num, end=\", \")"
      ],
      "metadata": {
        "colab": {
          "base_uri": "https://localhost:8080/"
        },
        "id": "mJe_ZTO8Gxs2",
        "outputId": "a54d1cd9-0fb8-4a62-fba9-334bbd3594dd"
      },
      "execution_count": null,
      "outputs": [
        {
          "output_type": "stream",
          "name": "stdout",
          "text": [
            "2, 1, 0, -1, -2, -3, -4, "
          ]
        }
      ]
    },
    {
      "cell_type": "code",
      "source": [
        "for num in range(2,5,1):\n",
        "    print(num, end=\", \")"
      ],
      "metadata": {
        "id": "oBrWYqxCG-fb",
        "outputId": "c04555a0-075d-4da7-e318-0764d214ce9a",
        "colab": {
          "base_uri": "https://localhost:8080/"
        }
      },
      "execution_count": null,
      "outputs": [
        {
          "output_type": "stream",
          "name": "stdout",
          "text": [
            "2, 3, 4, "
          ]
        }
      ]
    },
    {
      "cell_type": "markdown",
      "source": [
        "Day 9"
      ],
      "metadata": {
        "id": "5IvVXoiaRAmo"
      }
    },
    {
      "cell_type": "code",
      "source": [
        "1"
      ],
      "metadata": {
        "id": "mVl9OWUdRR6P"
      },
      "execution_count": null,
      "outputs": []
    }
  ]
}